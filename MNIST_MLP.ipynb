{
 "cells": [
  {
   "cell_type": "code",
   "execution_count": 1,
   "metadata": {
    "collapsed": true
   },
   "outputs": [],
   "source": [
    "import pandas as pd\n",
    "mnist_train = pd.read_csv('MNIST_data/train.csv')\n",
    "mnist_test = pd.read_csv('MNIST_data/test.csv')\n",
    "\n",
    "\n",
    "y_train = mnist_train[['label']][:30000]\n",
    "x_train = mnist_train[['pixel' + str(idx) for idx in range(784)]][:30000]\n",
    "\n",
    "y_dev = mnist_train[['label']][30000:42000]\n",
    "x_dev = mnist_train[['pixel' + str(idx) for idx in range(784)]][30000:42000]\n",
    "\n",
    "x_test = mnist_test[['pixel' + str(idx) for idx in range(784)]]\n"
   ]
  },
  {
   "cell_type": "code",
   "execution_count": 2,
   "metadata": {
    "collapsed": true
   },
   "outputs": [],
   "source": [
    "from sklearn.preprocessing import StandardScaler\n",
    "\n",
    "scaler = StandardScaler()\n",
    "x_train = scaler.fit_transform(x_train)\n",
    "x_dev = scaler.transform(x_dev)\n",
    "x_test = scaler.transform(x_test)\n"
   ]
  },
  {
   "cell_type": "code",
   "execution_count": 3,
   "metadata": {
    "collapsed": true
   },
   "outputs": [],
   "source": [
    "from sklearn.neural_network import MLPClassifier\n",
    "\n",
    "mlpc = MLPClassifier(hidden_layer_sizes=(50), solver='sgd', verbose=10, max_iter=30)"
   ]
  },
  {
   "cell_type": "code",
   "execution_count": 4,
   "metadata": {
    "collapsed": false
   },
   "outputs": [
    {
     "name": "stderr",
     "output_type": "stream",
     "text": [
      "//anaconda/lib/python2.7/site-packages/sklearn/neural_network/multilayer_perceptron.py:904: DataConversionWarning: A column-vector y was passed when a 1d array was expected. Please change the shape of y to (n_samples, ), for example using ravel().\n",
      "  y = column_or_1d(y, warn=True)\n"
     ]
    },
    {
     "name": "stdout",
     "output_type": "stream",
     "text": [
      "Iteration 1, loss = 1.41892483\n",
      "Iteration 2, loss = 0.65664134\n",
      "Iteration 3, loss = 0.48839369\n",
      "Iteration 4, loss = 0.41175124\n",
      "Iteration 5, loss = 0.36581605\n",
      "Iteration 6, loss = 0.33402961\n",
      "Iteration 7, loss = 0.31043884\n",
      "Iteration 8, loss = 0.29169810\n",
      "Iteration 9, loss = 0.27648269\n",
      "Iteration 10, loss = 0.26355665\n",
      "Iteration 11, loss = 0.25247858\n",
      "Iteration 12, loss = 0.24282766\n",
      "Iteration 13, loss = 0.23414142\n",
      "Iteration 14, loss = 0.22634766\n",
      "Iteration 15, loss = 0.21934825\n",
      "Iteration 16, loss = 0.21294441\n",
      "Iteration 17, loss = 0.20707941\n",
      "Iteration 18, loss = 0.20157149\n",
      "Iteration 19, loss = 0.19653339\n",
      "Iteration 20, loss = 0.19178372\n",
      "Iteration 21, loss = 0.18728373\n",
      "Iteration 22, loss = 0.18314406\n",
      "Iteration 23, loss = 0.17915664\n",
      "Iteration 24, loss = 0.17541852\n",
      "Iteration 25, loss = 0.17183468\n",
      "Iteration 26, loss = 0.16847948\n",
      "Iteration 27, loss = 0.16523726\n",
      "Iteration 28, loss = 0.16223685\n",
      "Iteration 29, loss = 0.15933829\n",
      "Iteration 30, loss = 0.15653737\n"
     ]
    },
    {
     "name": "stderr",
     "output_type": "stream",
     "text": [
      "//anaconda/lib/python2.7/site-packages/sklearn/neural_network/multilayer_perceptron.py:563: ConvergenceWarning: Stochastic Optimizer: Maximum iterations reached and the optimization hasn't converged yet.\n",
      "  % (), ConvergenceWarning)\n"
     ]
    }
   ],
   "source": [
    "mlpc.fit(x_train,y_train)\n",
    "y_dev_predict = mlpc.predict(x_dev)"
   ]
  },
  {
   "cell_type": "code",
   "execution_count": 5,
   "metadata": {
    "collapsed": false
   },
   "outputs": [
    {
     "data": {
      "text/plain": [
       "0.9438333333333333"
      ]
     },
     "execution_count": 5,
     "metadata": {},
     "output_type": "execute_result"
    }
   ],
   "source": [
    "from sklearn.metrics import accuracy_score\n",
    "\n",
    "accuracy_score(y_dev, y_dev_predict)"
   ]
  },
  {
   "cell_type": "code",
   "execution_count": 6,
   "metadata": {
    "collapsed": true
   },
   "outputs": [],
   "source": [
    "y_test_predict = mlpc.predict(x_test)\n",
    "pd.DataFrame({\"ImageId\": range(1, len(x_test) + 1), \"Label\": y_test_predict}).to_csv('MNIST_data/mlpc.csv', index=False)"
   ]
  },
  {
   "cell_type": "code",
   "execution_count": null,
   "metadata": {
    "collapsed": true
   },
   "outputs": [],
   "source": []
  }
 ],
 "metadata": {
  "anaconda-cloud": {},
  "kernelspec": {
   "display_name": "Python [default]",
   "language": "python",
   "name": "python2"
  },
  "language_info": {
   "codemirror_mode": {
    "name": "ipython",
    "version": 2
   },
   "file_extension": ".py",
   "mimetype": "text/x-python",
   "name": "python",
   "nbconvert_exporter": "python",
   "pygments_lexer": "ipython2",
   "version": "2.7.12"
  }
 },
 "nbformat": 4,
 "nbformat_minor": 1
}
